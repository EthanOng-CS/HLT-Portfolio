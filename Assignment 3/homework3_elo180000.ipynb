{
  "nbformat": 4,
  "nbformat_minor": 0,
  "metadata": {
    "colab": {
      "provenance": []
    },
    "kernelspec": {
      "name": "python3",
      "display_name": "Python 3"
    },
    "language_info": {
      "name": "python"
    }
  },
  "cells": [
    {
      "cell_type": "markdown",
      "source": [
        "# #1. WordNet is a hierarchical organization of nouns, verbs, adjectives, and adverbs; listing:\n",
        "\n",
        "\n",
        "*   Glosses: short definitions\n",
        "*   Synsets: synonym sets\n",
        "*   Use examples\n",
        "*   Relations to other words\n",
        "\n",
        "\n",
        "\n"
      ],
      "metadata": {
        "id": "ZjhhYntZlGGh"
      }
    },
    {
      "cell_type": "code",
      "execution_count": 4,
      "metadata": {
        "id": "iLyJfluUhDqR"
      },
      "outputs": [],
      "source": [
        "import nltk\n",
        "import math\n",
        "from nltk.corpus import wordnet as wn\n",
        "from nltk.wsd import lesk\n",
        "from nltk.tokenize import word_tokenize\n",
        "from nltk.tokenize import sent_tokenize\n",
        "from nltk.corpus import sentiwordnet as swn"
      ]
    },
    {
      "cell_type": "code",
      "source": [
        "nltk.download('gutenberg')\n",
        "nltk.download('genesis')\n",
        "nltk.download('inaugural')\n",
        "nltk.download('nps_chat')\n",
        "nltk.download('webtext')\n",
        "nltk.download('treebank')\n",
        "from nltk.book import *\n",
        "\n",
        "nltk.download('book')\n",
        "nltk.download('omw-1.4')\n",
        "nltk.download('wordnet')  \n",
        "nltk.download('punkt')\n",
        "nltk.download('sentiwordnet')"
      ],
      "metadata": {
        "id": "DzqVyq-kmO_A"
      },
      "execution_count": null,
      "outputs": []
    },
    {
      "cell_type": "markdown",
      "source": [
        "# #2/#3. Ouput a synset \"**Medicine**\" and extract its definition, usage examples, and lemmas. Transverse up the Wordnet hierarchy as far as I can."
      ],
      "metadata": {
        "id": "1qZfnNmRlV9P"
      }
    },
    {
      "cell_type": "code",
      "source": [
        "noun = wn.synsets('medicine')\n",
        "print(\"All synsets:\", noun)\n",
        "print()\n",
        "synset = noun[0]\n",
        "\n",
        "print(\"Synset:\", synset)\n",
        "print(\"Definition:\", synset.definition())\n",
        "print(\"Examples:\", synset.examples())\n",
        "print(\"Lemmas:\", synset.lemmas())\n",
        "\n",
        "i = 1\n",
        "while synset:\n",
        "    print(synset)\n",
        "    if i > 10:\n",
        "        break\n",
        "    i += 1\n",
        "    if synset.hypernyms():\n",
        "        synset = synset.hypernyms()[0]"
      ],
      "metadata": {
        "id": "_N6cSfLUlVd8",
        "colab": {
          "base_uri": "https://localhost:8080/"
        },
        "outputId": "added090-5694-442a-8310-3ca0e7cf70e7"
      },
      "execution_count": 13,
      "outputs": [
        {
          "output_type": "stream",
          "name": "stdout",
          "text": [
            "All synsets: [Synset('medicine.n.01'), Synset('medicine.n.02'), Synset('medicine.n.03'), Synset('music.n.05'), Synset('medicate.v.02')]\n",
            "\n",
            "Synset: Synset('medicine.n.01')\n",
            "Definition: the branches of medical science that deal with nonsurgical techniques\n",
            "Examples: []\n",
            "Lemmas: [Lemma('medicine.n.01.medicine'), Lemma('medicine.n.01.medical_specialty')]\n",
            "Synset('medicine.n.01')\n",
            "Synset('medical_science.n.01')\n",
            "Synset('life_science.n.01')\n",
            "Synset('natural_science.n.01')\n",
            "Synset('science.n.01')\n",
            "Synset('discipline.n.01')\n",
            "Synset('knowledge_domain.n.01')\n",
            "Synset('content.n.05')\n",
            "Synset('cognition.n.01')\n",
            "Synset('psychological_feature.n.01')\n",
            "Synset('abstraction.n.06')\n"
          ]
        }
      ]
    },
    {
      "cell_type": "markdown",
      "source": [
        "# #4. Output the following if exist: hypernyms, hyponyms, meronyms, holonyms, antonym"
      ],
      "metadata": {
        "id": "P-APE1w3mxO9"
      }
    },
    {
      "cell_type": "code",
      "source": [
        "print(\"Hypernyms:\", synset.hypernyms())\n",
        "print(\"Hyponyms:\", synset.hyponyms())\n",
        "print(\"Meronyms:\", synset.part_meronyms())\n",
        "print(\"Holonyms:\", synset.part_holonyms())\n",
        "print(\"Antonyms:\", synset.lemmas()[0].antonyms())"
      ],
      "metadata": {
        "colab": {
          "base_uri": "https://localhost:8080/"
        },
        "id": "UoxLOCrZm8Og",
        "outputId": "d027d6b6-ab69-4f40-cc0b-64b4a2f68dfc"
      },
      "execution_count": 7,
      "outputs": [
        {
          "output_type": "stream",
          "name": "stdout",
          "text": [
            "Hypernyms: [Synset('medical_science.n.01')]\n",
            "Hyponyms: [Synset('allergology.n.01'), Synset('anesthesiology.n.01'), Synset('angiology.n.01'), Synset('bacteriology.n.01'), Synset('biomedicine.n.01'), Synset('biomedicine.n.02'), Synset('cardiology.n.01'), Synset('dentistry.n.01'), Synset('dermatology.n.01'), Synset('emergency_medicine.n.01'), Synset('endocrinology.n.01'), Synset('epidemiology.n.01'), Synset('forensic_medicine.n.01'), Synset('gastroenterology.n.01'), Synset('geriatrics.n.01'), Synset('gynecology.n.01'), Synset('hematology.n.01'), Synset('hygiene.n.02'), Synset('immunology.n.01'), Synset('internal_medicine.n.01'), Synset('nephrology.n.01'), Synset('neurology.n.02'), Synset('neuropsychiatry.n.01'), Synset('nosology.n.01'), Synset('nuclear_medicine.n.01'), Synset('obstetrics.n.01'), Synset('oncology.n.01'), Synset('ophthalmology.n.01'), Synset('otology.n.01'), Synset('pediatrics.n.01'), Synset('pharmacology.n.01'), Synset('pharmacy.n.01'), Synset('podiatry.n.01'), Synset('proctology.n.01'), Synset('prosthetics.n.01'), Synset('psychiatry.n.01'), Synset('rheumatology.n.01'), Synset('rhinolaryngology.n.01'), Synset('space_medicine.n.01'), Synset('sports_medicine.n.01'), Synset('therapeutics.n.01'), Synset('thoracic_medicine.n.01'), Synset('traumatology.n.01'), Synset('tropical_medicine.n.01'), Synset('urology.n.01'), Synset('veterinary_medicine.n.01'), Synset('virology.n.01')]\n",
            "Meronyms: []\n",
            "Holonyms: []\n",
            "Antonyms: []\n"
          ]
        }
      ]
    },
    {
      "cell_type": "markdown",
      "source": [
        "# #5/#6 - Ouput a synset \"**Punish**\" and extract its definition, usage examples, and lemmas. Transverse up the Wordnet hierarchy as far as I can. "
      ],
      "metadata": {
        "id": "onN60Tb6nDYC"
      }
    },
    {
      "cell_type": "code",
      "source": [
        "verbs = wn.synsets('walk')\n",
        "print(\"All synsets:\", verbs)\n",
        "print()\n",
        "synset = verbs[0]\n",
        "\n",
        "print(\"Synset:\", synset)\n",
        "print(\"Definition:\", synset.definition())\n",
        "print(\"Examples:\", synset.examples())\n",
        "print(\"Lemmas:\", synset.lemmas())\n",
        "\n",
        "i = 1\n",
        "while synset:\n",
        "    print(synset)\n",
        "    if i > 8:\n",
        "        break\n",
        "    i += 1\n",
        "    if synset.hypernyms():\n",
        "        synset = synset.hypernyms()[0]"
      ],
      "metadata": {
        "colab": {
          "base_uri": "https://localhost:8080/"
        },
        "id": "kpFQaIMWnp_o",
        "outputId": "e5f52b94-fc07-48f9-cd80-cd6fa17ce78d"
      },
      "execution_count": 18,
      "outputs": [
        {
          "output_type": "stream",
          "name": "stdout",
          "text": [
            "All synsets: [Synset('walk.n.01'), Synset('base_on_balls.n.01'), Synset('walk.n.03'), Synset('walk.n.04'), Synset('walk.n.05'), Synset('walk.n.06'), Synset('walk_of_life.n.01'), Synset('walk.v.01'), Synset('walk.v.02'), Synset('walk.v.03'), Synset('walk.v.04'), Synset('walk.v.05'), Synset('walk.v.06'), Synset('walk.v.07'), Synset('walk.v.08'), Synset('walk.v.09'), Synset('walk.v.10')]\n",
            "\n",
            "Synset: Synset('walk.n.01')\n",
            "Definition: the act of traveling by foot\n",
            "Examples: ['walking is a healthy form of exercise']\n",
            "Lemmas: [Lemma('walk.n.01.walk'), Lemma('walk.n.01.walking')]\n",
            "Synset('walk.n.01')\n",
            "Synset('locomotion.n.02')\n",
            "Synset('motion.n.06')\n",
            "Synset('change.n.03')\n",
            "Synset('action.n.01')\n",
            "Synset('act.n.02')\n",
            "Synset('event.n.01')\n",
            "Synset('psychological_feature.n.01')\n",
            "Synset('abstraction.n.06')\n"
          ]
        }
      ]
    },
    {
      "cell_type": "markdown",
      "source": [
        "# #7 - Use morphy to find as many different forms of the word as you can"
      ],
      "metadata": {
        "id": "ECByFZMBnzoz"
      }
    },
    {
      "cell_type": "code",
      "source": [
        "print(wn.morphy('walk', wn.NOUN))\n",
        "print(wn.morphy('walked'))\n",
        "print(wn.morphy('walking', wn.ADJ))"
      ],
      "metadata": {
        "colab": {
          "base_uri": "https://localhost:8080/"
        },
        "id": "7zfyn27Jn8ov",
        "outputId": "3e524d30-f9bb-4b00-d233-e56bb8528e34"
      },
      "execution_count": 23,
      "outputs": [
        {
          "output_type": "stream",
          "name": "stdout",
          "text": [
            "walk\n",
            "walk\n",
            "walking\n"
          ]
        }
      ]
    },
    {
      "cell_type": "markdown",
      "source": [
        "# #8 - Select 2 words **\"many\"** and **\"numerous\"** that you think might be similar. Find the specific synsets you are interested in. Run the Wu-Palmer similarity metric and the Lesk algorithm."
      ],
      "metadata": {
        "id": "PCPBNQghocOx"
      }
    },
    {
      "cell_type": "code",
      "source": [
        "hop = wn.synset('hop.v.01')\n",
        "jump = wn.synset('jump.v.01')\n",
        "\n",
        "# Wu-Palmer similarity\n",
        "print(\"Wu-Palmer: \", wn.wup_similarity(hop, jump))\n",
        "\n",
        "# Lesk Algorithm\n",
        "sent = (\"I will jump over the rainbow\")\n",
        "print(lesk(sent, 'jump'))\n",
        "print(lesk(sent, 'jump').definition())\n"
      ],
      "metadata": {
        "colab": {
          "base_uri": "https://localhost:8080/"
        },
        "id": "OtyMDgxKo_2S",
        "outputId": "676f7eb1-d673-43ac-8144-b4bc8bc97c1c"
      },
      "execution_count": 45,
      "outputs": [
        {
          "output_type": "stream",
          "name": "stdout",
          "text": [
            "Wu-Palmer:  0.8\n",
            "Synset('startle.n.01')\n",
            "a sudden involuntary movement\n"
          ]
        }
      ]
    },
    {
      "cell_type": "markdown",
      "source": [
        "# #9 - Select an emotionally charged word **\"anxious\"**. Find its senti-synsets and output the polarity scores for each word. Make up a sentence. Output the polarity for each word in the sentence."
      ],
      "metadata": {
        "id": "wncMnOV0osvO"
      }
    },
    {
      "cell_type": "code",
      "source": [
        "#sentiwordnet analysis\n",
        "anxious = 'anxious'\n",
        "senti_synsets = list(swn.senti_synsets(anxious))\n",
        "print(\"sentisynsets: \")\n",
        "for synset in senti_synsets:\n",
        "  print(synset)\n",
        "  print(\"Positive Score: \", synset.pos_score())\n",
        "  print(\"Negative Score: \", synset.neg_score())\n",
        "  print(\"Objective Score: \", synset.obj_score())"
      ],
      "metadata": {
        "colab": {
          "base_uri": "https://localhost:8080/"
        },
        "id": "Z46zzaS9pAN8",
        "outputId": "80d9ee8b-ae24-47c3-b24f-17eee6cb16da"
      },
      "execution_count": 58,
      "outputs": [
        {
          "output_type": "stream",
          "name": "stdout",
          "text": [
            "sentisynsets: \n",
            "<anxious.s.01: PosScore=0.125 NegScore=0.0>\n",
            "Positive Score:  0.125\n",
            "Negative Score:  0.0\n",
            "Objective Score:  0.875\n",
            "<anxious.s.02: PosScore=0.125 NegScore=0.625>\n",
            "Positive Score:  0.125\n",
            "Negative Score:  0.625\n",
            "Objective Score:  0.25\n"
          ]
        }
      ]
    },
    {
      "cell_type": "code",
      "source": [
        "#word polarity\n",
        "sent = 'At that moment he was not listening to music, he was living an experience.'\n",
        "tokens = word_tokenize(sent)\n",
        "for token in tokens:\n",
        "  token_synsets = list(swn.senti_synsets(token))\n",
        "  if token_synsets:\n",
        "    print(token_synsets[0], 'Pos:', token_synsets[0].pos_score(), 'Neg:', token_synsets[0].neg_score(), 'Obj:', token_synsets[0].obj_score())"
      ],
      "metadata": {
        "colab": {
          "base_uri": "https://localhost:8080/"
        },
        "id": "qOahfFN5pCyI",
        "outputId": "3194a9ec-8556-4276-abe3-b02fc42dcc3c"
      },
      "execution_count": 60,
      "outputs": [
        {
          "output_type": "stream",
          "name": "stdout",
          "text": [
            "<astatine.n.01: PosScore=0.0 NegScore=0.0> Pos: 0.0 Neg: 0.0 Obj: 1.0\n",
            "<moment.n.01: PosScore=0.0 NegScore=0.0> Pos: 0.0 Neg: 0.0 Obj: 1.0\n",
            "<helium.n.01: PosScore=0.0 NegScore=0.0> Pos: 0.0 Neg: 0.0 Obj: 1.0\n",
            "<washington.n.02: PosScore=0.0 NegScore=0.0> Pos: 0.0 Neg: 0.0 Obj: 1.0\n",
            "<not.r.01: PosScore=0.0 NegScore=0.625> Pos: 0.0 Neg: 0.625 Obj: 0.375\n",
            "<listening.n.01: PosScore=0.0 NegScore=0.0> Pos: 0.0 Neg: 0.0 Obj: 1.0\n",
            "<music.n.01: PosScore=0.0 NegScore=0.0> Pos: 0.0 Neg: 0.0 Obj: 1.0\n",
            "<helium.n.01: PosScore=0.0 NegScore=0.0> Pos: 0.0 Neg: 0.0 Obj: 1.0\n",
            "<washington.n.02: PosScore=0.0 NegScore=0.0> Pos: 0.0 Neg: 0.0 Obj: 1.0\n",
            "<life.n.02: PosScore=0.0 NegScore=0.0> Pos: 0.0 Neg: 0.0 Obj: 1.0\n",
            "<associate_in_nursing.n.01: PosScore=0.0 NegScore=0.125> Pos: 0.0 Neg: 0.125 Obj: 0.875\n",
            "<experience.n.01: PosScore=0.0 NegScore=0.0> Pos: 0.0 Neg: 0.0 Obj: 1.0\n"
          ]
        }
      ]
    },
    {
      "cell_type": "markdown",
      "source": [
        "# #10 - Output collocations for text4, the Inaugural corpus. Select one of the collocations identified by NLTK. Calculate mutual information."
      ],
      "metadata": {
        "id": "yWsTT3QAo5RX"
      }
    },
    {
      "cell_type": "code",
      "source": [
        "colloc = text4.collocations()\n",
        "print(colloc)\n",
        "\n",
        "#prob of vice pres\n",
        "print()\n",
        "\n",
        "text = ' '.join(text4.tokens)\n",
        "text[:50]\n",
        "\n",
        "vocab = len(set(text4))\n",
        "us = text.count('United States')/vocab\n",
        "print(\"Probability of United States:\", us)\n",
        "u = text.count('United')/vocab\n",
        "print(\"Probability of United:\", u)\n",
        "s = text.count('States')/vocab\n",
        "print(\"Probability of States:\", s)\n",
        "pmi = math.log2(us / (u * s))\n",
        "print(\"pmi: \", pmi)\n",
        "\n"
      ],
      "metadata": {
        "colab": {
          "base_uri": "https://localhost:8080/"
        },
        "id": "UoE0LbXfpAnl",
        "outputId": "96a65300-4b5f-4279-99cc-7adb71dd948f"
      },
      "execution_count": 67,
      "outputs": [
        {
          "output_type": "stream",
          "name": "stdout",
          "text": [
            "United States; fellow citizens; years ago; four years; Federal\n",
            "Government; General Government; American people; Vice President; God\n",
            "bless; Chief Justice; one another; fellow Americans; Old World;\n",
            "Almighty God; Fellow citizens; Chief Magistrate; every citizen; Indian\n",
            "tribes; public debt; foreign nations\n",
            "None\n",
            "\n",
            "Probability of United States: 0.015860349127182045\n",
            "Probability of United: 0.0170573566084788\n",
            "Probability of States: 0.03301745635910224\n",
            "pmi:  4.815657649820885\n"
          ]
        }
      ]
    }
  ]
}